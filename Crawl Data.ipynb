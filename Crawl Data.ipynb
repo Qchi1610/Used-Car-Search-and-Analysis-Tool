{
 "cells": [
  {
   "cell_type": "code",
   "execution_count": 124,
   "metadata": {},
   "outputs": [
    {
     "name": "stdout",
     "output_type": "stream",
     "text": [
      "['xe-peugeot-3008-1.6-at-2019-5299081', 'xe-chevrolet-trailblazer-lt-2.5l-vgt-4x2-at-2018-4562906', 'xe-honda-crv-2.4-at-2015-5177400', 'xe-landrover-range_rover_evoque-autobiography-2015-4944872', 'xe-kia-k3-premium-2.0-at-2022-5263661', 'xe-mercedes_benz-gls-400-4matic-2018-5111076', 'xe-mercedes_benz-c_class-c250-exclusive-2016-5291492', 'xe-mercedes_benz-c_class-c250-exclusive-2016-5076330', 'xe-mercedes_benz-glc-300-4matic-2018-5108930', 'xe-mercedes_benz-e_class-e300-amg-2016-5297536', 'xe-jeep-wrangler-rubicon-2-door-2.0-4x4-at-2021-5113512', 'xe-mercedes_benz-c_class-c200-2016-5248278', 'xe-toyota-corolla-ce-1.8-at-2008-5034686', 'xe-ford-focus-trend-1.5l-2019-5299080', 'xe-hino-500_series-fc-2019-5299075', 'xe-mitsubishi-xpander-1.5-at-2021-5292773', 'xe-ford-laser-ghia-1.8-at-2005-5268905', 'xe-honda-crv-l-2019-5220036', 'xe-vinfast-lux_a_2.0-plus-2.0-at-2021-5109009', 'xe-mercedes_benz-e_class-e300-amg-2019-5041681']\n"
     ]
    }
   ],
   "source": [
    "import requests\n",
    "from bs4 import BeautifulSoup\n",
    "\n",
    "link_base = 'https://bonbanh.com/oto-cu-da-qua-su-dung'\n",
    "link_list = []\n",
    "car_link_list = []\n",
    "link_list.append(link_base)\n",
    "for i in range(2, 1475):\n",
    "    new_link = link_base + f'/page,{i}'\n",
    "    link_list.append(new_link)\n",
    "\n",
    "for j in range(len(link_list)):\n",
    "    item = link_list[j]\n",
    "    response = requests.get(item)\n",
    "    soup = BeautifulSoup(response.text, 'html.parser')\n",
    "    #print(soup.prettify())\n",
    "    a = soup.find('div', id=\"search_content\")\n",
    "    #print(a.prettify())\n",
    "    car = a.find_all('ul')[1].find_all('a')\n",
    "    for link in car:\n",
    "        get_link = link.get('href')\n",
    "        car_link_list.append(get_link)\n",
    "    print(car_link_list)\n",
    "    break\n",
    "    \n"
   ]
  }
 ],
 "metadata": {
  "kernelspec": {
   "display_name": "Python 3",
   "language": "python",
   "name": "python3"
  },
  "language_info": {
   "codemirror_mode": {
    "name": "ipython",
    "version": 3
   },
   "file_extension": ".py",
   "mimetype": "text/x-python",
   "name": "python",
   "nbconvert_exporter": "python",
   "pygments_lexer": "ipython3",
   "version": "3.11.4"
  }
 },
 "nbformat": 4,
 "nbformat_minor": 2
}
